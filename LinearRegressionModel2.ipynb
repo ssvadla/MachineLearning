{
  "nbformat": 4,
  "nbformat_minor": 0,
  "metadata": {
    "colab": {
      "name": "LinearRegressionModel2.ipynb",
      "provenance": [],
      "include_colab_link": true
    },
    "kernelspec": {
      "name": "python3",
      "display_name": "Python 3"
    },
    "language_info": {
      "name": "python"
    }
  },
  "cells": [
    {
      "cell_type": "markdown",
      "metadata": {
        "id": "view-in-github",
        "colab_type": "text"
      },
      "source": [
        "<a href=\"https://colab.research.google.com/github/ssvadla/MachineLearning/blob/main/LinearRegressionModel2.ipynb\" target=\"_parent\"><img src=\"https://colab.research.google.com/assets/colab-badge.svg\" alt=\"Open In Colab\"/></a>"
      ]
    },
    {
      "cell_type": "code",
      "metadata": {
        "id": "Lpi7hqzHtExr"
      },
      "source": [
        "import pandas as pd\n",
        "import numpy as np\n",
        "import matplotlib.pyplot as plt\n",
        "import seaborn as sns"
      ],
      "execution_count": 1,
      "outputs": []
    },
    {
      "cell_type": "code",
      "metadata": {
        "colab": {
          "base_uri": "https://localhost:8080/"
        },
        "id": "nU8F7pAA8jqe",
        "outputId": "9eb7152d-a23a-4b6f-c4f4-4a4e22a4f136"
      },
      "source": [
        "from google.colab import drive\n",
        "drive.mount('/content/drive')"
      ],
      "execution_count": 2,
      "outputs": [
        {
          "output_type": "stream",
          "name": "stdout",
          "text": [
            "Mounted at /content/drive\n"
          ]
        }
      ]
    },
    {
      "cell_type": "code",
      "metadata": {
        "colab": {
          "base_uri": "https://localhost:8080/",
          "height": 362
        },
        "id": "ugHJgiec8mU7",
        "outputId": "43074473-e10e-4be2-cc12-d1dcdcfe39b2"
      },
      "source": [
        "data = pd.read_csv(\"/content/drive/My Drive/5505_MachineLearning/monet.csv\")\n",
        "data.head(10)"
      ],
      "execution_count": 3,
      "outputs": [
        {
          "output_type": "execute_result",
          "data": {
            "text/html": [
              "<div>\n",
              "<style scoped>\n",
              "    .dataframe tbody tr th:only-of-type {\n",
              "        vertical-align: middle;\n",
              "    }\n",
              "\n",
              "    .dataframe tbody tr th {\n",
              "        vertical-align: top;\n",
              "    }\n",
              "\n",
              "    .dataframe thead th {\n",
              "        text-align: right;\n",
              "    }\n",
              "</style>\n",
              "<table border=\"1\" class=\"dataframe\">\n",
              "  <thead>\n",
              "    <tr style=\"text-align: right;\">\n",
              "      <th></th>\n",
              "      <th>PRICE</th>\n",
              "      <th>HEIGHT</th>\n",
              "      <th>WIDTH</th>\n",
              "      <th>SIGNED</th>\n",
              "      <th>PICTURE</th>\n",
              "      <th>HOUSE</th>\n",
              "    </tr>\n",
              "  </thead>\n",
              "  <tbody>\n",
              "    <tr>\n",
              "      <th>0</th>\n",
              "      <td>3.993780</td>\n",
              "      <td>21.3</td>\n",
              "      <td>25.6</td>\n",
              "      <td>1</td>\n",
              "      <td>1</td>\n",
              "      <td>1</td>\n",
              "    </tr>\n",
              "    <tr>\n",
              "      <th>1</th>\n",
              "      <td>8.800000</td>\n",
              "      <td>31.9</td>\n",
              "      <td>25.6</td>\n",
              "      <td>1</td>\n",
              "      <td>2</td>\n",
              "      <td>2</td>\n",
              "    </tr>\n",
              "    <tr>\n",
              "      <th>2</th>\n",
              "      <td>0.131694</td>\n",
              "      <td>6.9</td>\n",
              "      <td>15.9</td>\n",
              "      <td>0</td>\n",
              "      <td>3</td>\n",
              "      <td>3</td>\n",
              "    </tr>\n",
              "    <tr>\n",
              "      <th>3</th>\n",
              "      <td>2.037500</td>\n",
              "      <td>25.7</td>\n",
              "      <td>32.0</td>\n",
              "      <td>1</td>\n",
              "      <td>4</td>\n",
              "      <td>2</td>\n",
              "    </tr>\n",
              "    <tr>\n",
              "      <th>4</th>\n",
              "      <td>1.487500</td>\n",
              "      <td>25.7</td>\n",
              "      <td>32.0</td>\n",
              "      <td>1</td>\n",
              "      <td>4</td>\n",
              "      <td>2</td>\n",
              "    </tr>\n",
              "    <tr>\n",
              "      <th>5</th>\n",
              "      <td>1.870000</td>\n",
              "      <td>25.6</td>\n",
              "      <td>31.9</td>\n",
              "      <td>1</td>\n",
              "      <td>4</td>\n",
              "      <td>1</td>\n",
              "    </tr>\n",
              "    <tr>\n",
              "      <th>6</th>\n",
              "      <td>5.282500</td>\n",
              "      <td>25.5</td>\n",
              "      <td>35.6</td>\n",
              "      <td>1</td>\n",
              "      <td>5</td>\n",
              "      <td>1</td>\n",
              "    </tr>\n",
              "    <tr>\n",
              "      <th>7</th>\n",
              "      <td>5.065750</td>\n",
              "      <td>26.0</td>\n",
              "      <td>34.3</td>\n",
              "      <td>1</td>\n",
              "      <td>5</td>\n",
              "      <td>2</td>\n",
              "    </tr>\n",
              "    <tr>\n",
              "      <th>8</th>\n",
              "      <td>1.375000</td>\n",
              "      <td>25.6</td>\n",
              "      <td>36.2</td>\n",
              "      <td>1</td>\n",
              "      <td>5</td>\n",
              "      <td>2</td>\n",
              "    </tr>\n",
              "    <tr>\n",
              "      <th>9</th>\n",
              "      <td>2.530000</td>\n",
              "      <td>25.6</td>\n",
              "      <td>36.4</td>\n",
              "      <td>1</td>\n",
              "      <td>6</td>\n",
              "      <td>2</td>\n",
              "    </tr>\n",
              "  </tbody>\n",
              "</table>\n",
              "</div>"
            ],
            "text/plain": [
              "      PRICE  HEIGHT  WIDTH  SIGNED  PICTURE  HOUSE \n",
              "0  3.993780    21.3   25.6       1        1       1\n",
              "1  8.800000    31.9   25.6       1        2       2\n",
              "2  0.131694     6.9   15.9       0        3       3\n",
              "3  2.037500    25.7   32.0       1        4       2\n",
              "4  1.487500    25.7   32.0       1        4       2\n",
              "5  1.870000    25.6   31.9       1        4       1\n",
              "6  5.282500    25.5   35.6       1        5       1\n",
              "7  5.065750    26.0   34.3       1        5       2\n",
              "8  1.375000    25.6   36.2       1        5       2\n",
              "9  2.530000    25.6   36.4       1        6       2"
            ]
          },
          "metadata": {},
          "execution_count": 3
        }
      ]
    },
    {
      "cell_type": "code",
      "metadata": {
        "id": "kTvnpCEd_2ok"
      },
      "source": [
        "data['LOG_WIDTH'] = np.log(data['WIDTH'])"
      ],
      "execution_count": 4,
      "outputs": []
    },
    {
      "cell_type": "code",
      "metadata": {
        "colab": {
          "base_uri": "https://localhost:8080/",
          "height": 362
        },
        "id": "yrwQ5ff15fJq",
        "outputId": "cc0731af-6a23-4c50-ebdf-a7901c3ddb4c"
      },
      "source": [
        "data.head(10)"
      ],
      "execution_count": 5,
      "outputs": [
        {
          "output_type": "execute_result",
          "data": {
            "text/html": [
              "<div>\n",
              "<style scoped>\n",
              "    .dataframe tbody tr th:only-of-type {\n",
              "        vertical-align: middle;\n",
              "    }\n",
              "\n",
              "    .dataframe tbody tr th {\n",
              "        vertical-align: top;\n",
              "    }\n",
              "\n",
              "    .dataframe thead th {\n",
              "        text-align: right;\n",
              "    }\n",
              "</style>\n",
              "<table border=\"1\" class=\"dataframe\">\n",
              "  <thead>\n",
              "    <tr style=\"text-align: right;\">\n",
              "      <th></th>\n",
              "      <th>PRICE</th>\n",
              "      <th>HEIGHT</th>\n",
              "      <th>WIDTH</th>\n",
              "      <th>SIGNED</th>\n",
              "      <th>PICTURE</th>\n",
              "      <th>HOUSE</th>\n",
              "      <th>LOG_WIDTH</th>\n",
              "    </tr>\n",
              "  </thead>\n",
              "  <tbody>\n",
              "    <tr>\n",
              "      <th>0</th>\n",
              "      <td>3.993780</td>\n",
              "      <td>21.3</td>\n",
              "      <td>25.6</td>\n",
              "      <td>1</td>\n",
              "      <td>1</td>\n",
              "      <td>1</td>\n",
              "      <td>3.242592</td>\n",
              "    </tr>\n",
              "    <tr>\n",
              "      <th>1</th>\n",
              "      <td>8.800000</td>\n",
              "      <td>31.9</td>\n",
              "      <td>25.6</td>\n",
              "      <td>1</td>\n",
              "      <td>2</td>\n",
              "      <td>2</td>\n",
              "      <td>3.242592</td>\n",
              "    </tr>\n",
              "    <tr>\n",
              "      <th>2</th>\n",
              "      <td>0.131694</td>\n",
              "      <td>6.9</td>\n",
              "      <td>15.9</td>\n",
              "      <td>0</td>\n",
              "      <td>3</td>\n",
              "      <td>3</td>\n",
              "      <td>2.766319</td>\n",
              "    </tr>\n",
              "    <tr>\n",
              "      <th>3</th>\n",
              "      <td>2.037500</td>\n",
              "      <td>25.7</td>\n",
              "      <td>32.0</td>\n",
              "      <td>1</td>\n",
              "      <td>4</td>\n",
              "      <td>2</td>\n",
              "      <td>3.465736</td>\n",
              "    </tr>\n",
              "    <tr>\n",
              "      <th>4</th>\n",
              "      <td>1.487500</td>\n",
              "      <td>25.7</td>\n",
              "      <td>32.0</td>\n",
              "      <td>1</td>\n",
              "      <td>4</td>\n",
              "      <td>2</td>\n",
              "      <td>3.465736</td>\n",
              "    </tr>\n",
              "    <tr>\n",
              "      <th>5</th>\n",
              "      <td>1.870000</td>\n",
              "      <td>25.6</td>\n",
              "      <td>31.9</td>\n",
              "      <td>1</td>\n",
              "      <td>4</td>\n",
              "      <td>1</td>\n",
              "      <td>3.462606</td>\n",
              "    </tr>\n",
              "    <tr>\n",
              "      <th>6</th>\n",
              "      <td>5.282500</td>\n",
              "      <td>25.5</td>\n",
              "      <td>35.6</td>\n",
              "      <td>1</td>\n",
              "      <td>5</td>\n",
              "      <td>1</td>\n",
              "      <td>3.572346</td>\n",
              "    </tr>\n",
              "    <tr>\n",
              "      <th>7</th>\n",
              "      <td>5.065750</td>\n",
              "      <td>26.0</td>\n",
              "      <td>34.3</td>\n",
              "      <td>1</td>\n",
              "      <td>5</td>\n",
              "      <td>2</td>\n",
              "      <td>3.535145</td>\n",
              "    </tr>\n",
              "    <tr>\n",
              "      <th>8</th>\n",
              "      <td>1.375000</td>\n",
              "      <td>25.6</td>\n",
              "      <td>36.2</td>\n",
              "      <td>1</td>\n",
              "      <td>5</td>\n",
              "      <td>2</td>\n",
              "      <td>3.589059</td>\n",
              "    </tr>\n",
              "    <tr>\n",
              "      <th>9</th>\n",
              "      <td>2.530000</td>\n",
              "      <td>25.6</td>\n",
              "      <td>36.4</td>\n",
              "      <td>1</td>\n",
              "      <td>6</td>\n",
              "      <td>2</td>\n",
              "      <td>3.594569</td>\n",
              "    </tr>\n",
              "  </tbody>\n",
              "</table>\n",
              "</div>"
            ],
            "text/plain": [
              "      PRICE  HEIGHT  WIDTH  SIGNED  PICTURE  HOUSE   LOG_WIDTH\n",
              "0  3.993780    21.3   25.6       1        1       1   3.242592\n",
              "1  8.800000    31.9   25.6       1        2       2   3.242592\n",
              "2  0.131694     6.9   15.9       0        3       3   2.766319\n",
              "3  2.037500    25.7   32.0       1        4       2   3.465736\n",
              "4  1.487500    25.7   32.0       1        4       2   3.465736\n",
              "5  1.870000    25.6   31.9       1        4       1   3.462606\n",
              "6  5.282500    25.5   35.6       1        5       1   3.572346\n",
              "7  5.065750    26.0   34.3       1        5       2   3.535145\n",
              "8  1.375000    25.6   36.2       1        5       2   3.589059\n",
              "9  2.530000    25.6   36.4       1        6       2   3.594569"
            ]
          },
          "metadata": {},
          "execution_count": 5
        }
      ]
    },
    {
      "cell_type": "code",
      "metadata": {
        "id": "yIbavAaPtvKP"
      },
      "source": [
        "Independent_X = data['LOG_WIDTH']\n",
        "Dependent_y = data['PRICE']"
      ],
      "execution_count": 6,
      "outputs": []
    },
    {
      "cell_type": "code",
      "metadata": {
        "id": "opQn7Cght5HF"
      },
      "source": [
        "from sklearn.model_selection import train_test_split\n",
        "X_train, X_test, y_train, y_test = train_test_split(Independent_X, Dependent_y, test_size = 0.2, random_state = 42)"
      ],
      "execution_count": 7,
      "outputs": []
    },
    {
      "cell_type": "code",
      "metadata": {
        "colab": {
          "base_uri": "https://localhost:8080/"
        },
        "id": "s00Fk9C1t93N",
        "outputId": "a9b11418-b6d1-4360-b86a-486a6cef2f09"
      },
      "source": [
        "from sklearn.linear_model import LinearRegression\n",
        "classifier_model = LinearRegression()  \n",
        "classifier_model.fit(X_train.values.reshape(-1, 1), y_train)"
      ],
      "execution_count": 8,
      "outputs": [
        {
          "output_type": "execute_result",
          "data": {
            "text/plain": [
              "LinearRegression(copy_X=True, fit_intercept=True, n_jobs=None, normalize=False)"
            ]
          },
          "metadata": {},
          "execution_count": 8
        }
      ]
    },
    {
      "cell_type": "code",
      "metadata": {
        "colab": {
          "base_uri": "https://localhost:8080/"
        },
        "id": "WFv7QYaVwAav",
        "outputId": "f081d8bc-0012-4cc6-e8cc-66546e6d8588"
      },
      "source": [
        "#Prediction of test data split\n",
        "predictions_test= classifier_model.predict(X_test.values.reshape(-1,1))\n",
        "#Prediction values\n",
        "print(\"Prediction for test data split: {}\".format(predictions_test))"
      ],
      "execution_count": 9,
      "outputs": [
        {
          "output_type": "stream",
          "name": "stdout",
          "text": [
            "Prediction for test data split: [ 6.05771618e+00  3.71857014e+00  3.89277258e+00  3.92922426e+00\n",
            "  3.94130827e+00  3.30648857e+00  3.33426667e+00  3.27853466e+00\n",
            "  3.89277258e+00  3.92922426e+00  4.26689696e+00  4.26689696e+00\n",
            "  3.43013687e+00  1.20547128e+00  2.36253154e+00  2.92851367e+00\n",
            "  3.34809048e+00 -1.17760357e-01  3.91710710e+00  3.90495660e+00\n",
            "  3.89277258e+00  3.75648199e+00  3.36187116e+00  2.89805352e+00\n",
            "  2.89805352e+00  2.95876518e+00  2.83649568e+00  1.94674752e+00\n",
            "  2.43100894e+00  2.86738184e+00  3.89277258e+00  4.14183393e+00\n",
            "  3.91710710e+00  3.91710710e+00  4.26689696e+00  3.33426667e+00\n",
            "  3.33426667e+00  3.27853466e+00  5.90566317e+00  4.28926006e+00\n",
            "  7.32271413e+00  3.33426667e+00  2.86738184e+00  3.34809048e+00\n",
            "  3.89277258e+00  4.22182816e+00  1.63253836e+00  3.33426667e+00\n",
            "  1.61727895e-03  2.67873949e+00  2.56485869e+00  3.34809048e+00\n",
            "  4.28926006e+00  2.36253154e+00  1.59164267e+00  3.33426667e+00\n",
            "  1.20547128e+00  3.92922426e+00  3.89277258e+00 -2.79259994e-02\n",
            "  2.34524501e+00 -3.05980840e+00  1.20547128e+00  3.33426667e+00\n",
            "  2.36253154e+00  4.26689696e+00  3.89277258e+00  4.09546391e+00\n",
            "  3.92922426e+00  2.86738184e+00  3.79407118e+00  2.29297572e+00\n",
            "  2.91330985e+00  3.90495660e+00  2.89805352e+00  4.28926006e+00\n",
            "  3.41656788e+00  2.75832189e+00  3.90495660e+00  3.33426667e+00\n",
            "  3.27853466e+00  3.33426667e+00  3.30648857e+00  4.26689696e+00\n",
            "  2.77406773e+00  4.26689696e+00]\n"
          ]
        }
      ]
    },
    {
      "cell_type": "code",
      "metadata": {
        "colab": {
          "base_uri": "https://localhost:8080/",
          "height": 295
        },
        "id": "d0w4TOEy73PG",
        "outputId": "da058feb-8f67-4676-9e7f-aa007112f2b2"
      },
      "source": [
        "plt.title('Linear Regression')\n",
        "plt.xlabel('Width')\n",
        "plt.ylabel('Price')\n",
        "plt.scatter(X_train,y_train)\n",
        "plt.plot(X_test, predictions_test, 'Green')\n",
        "plt.show()"
      ],
      "execution_count": 10,
      "outputs": [
        {
          "output_type": "display_data",
          "data": {
            "image/png": "[encoded data removed]",
            "text/plain": [
              "<Figure size 432x288 with 1 Axes>"
            ]
          },
          "metadata": {
            "needs_background": "light"
          }
        }
      ]
    },
    {
      "cell_type": "code",
      "metadata": {
        "colab": {
          "base_uri": "https://localhost:8080/"
        },
        "id": "tV1li_nlwby8",
        "outputId": "8015e2a2-7eda-48db-fe6d-f76a8fc8ac09"
      },
      "source": [
        "#Evaluating the model\n",
        "from sklearn import metrics\n",
        "rootMeanSqErr = np.sqrt(metrics.mean_squared_error(y_test, predictions_test))\n",
        "print('Root Mean Square Error:', rootMeanSqErr)"
      ],
      "execution_count": 11,
      "outputs": [
        {
          "output_type": "stream",
          "name": "stdout",
          "text": [
            "Root Mean Square Error: 4.357012967070288\n"
          ]
        }
      ]
    },
    {
      "cell_type": "code",
      "metadata": {
        "id": "6tMwuU5HwnXw"
      },
      "source": [
        ""
      ],
      "execution_count": 11,
      "outputs": []
    }
  ]
}