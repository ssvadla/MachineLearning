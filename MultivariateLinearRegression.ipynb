{
  "nbformat": 4,
  "nbformat_minor": 0,
  "metadata": {
    "colab": {
      "name": "MultivariateLinearRegression3_sk.ipynb",
      "provenance": [],
      "collapsed_sections": [],
      "include_colab_link": true
    },
    "kernelspec": {
      "name": "python3",
      "display_name": "Python 3"
    },
    "language_info": {
      "name": "python"
    }
  },
  "cells": [
    {
      "cell_type": "markdown",
      "metadata": {
        "id": "view-in-github",
        "colab_type": "text"
      },
      "source": [
        "<a href=\"https://colab.research.google.com/github/ssvadla/MachineLearning/blob/main/MultivariateLinearRegression.ipynb\" target=\"_parent\"><img src=\"https://colab.research.google.com/assets/colab-badge.svg\" alt=\"Open In Colab\"/></a>"
      ]
    },
    {
      "cell_type": "code",
      "metadata": {
        "id": "Lpi7hqzHtExr"
      },
      "source": [
        "import pandas as pd\n",
        "import numpy as np\n",
        "import matplotlib.pyplot as plt\n"
      ],
      "execution_count": null,
      "outputs": []
    },
    {
      "cell_type": "code",
      "metadata": {
        "colab": {
          "base_uri": "https://localhost:8080/"
        },
        "id": "nU8F7pAA8jqe",
        "outputId": "6a98464f-1d70-4dd0-a288-2c3619850aef"
      },
      "source": [
        "from google.colab import drive\n",
        "drive.mount('/content/drive')"
      ],
      "execution_count": null,
      "outputs": [
        {
          "output_type": "stream",
          "name": "stdout",
          "text": [
            "Drive already mounted at /content/drive; to attempt to forcibly remount, call drive.mount(\"/content/drive\", force_remount=True).\n"
          ]
        }
      ]
    },
    {
      "cell_type": "code",
      "metadata": {
        "colab": {
          "base_uri": "https://localhost:8080/",
          "height": 362
        },
        "id": "ugHJgiec8mU7",
        "outputId": "27a78d08-e285-41e8-bf9a-8a4857064b53"
      },
      "source": [
        "data = pd.read_csv(\"/content/drive/My Drive/5505_MachineLearning/monet.csv\")\n",
        "data.head(10)"
      ],
      "execution_count": null,
      "outputs": [
        {
          "output_type": "execute_result",
          "data": {
            "text/html": [
              "<div>\n",
              "<style scoped>\n",
              "    .dataframe tbody tr th:only-of-type {\n",
              "        vertical-align: middle;\n",
              "    }\n",
              "\n",
              "    .dataframe tbody tr th {\n",
              "        vertical-align: top;\n",
              "    }\n",
              "\n",
              "    .dataframe thead th {\n",
              "        text-align: right;\n",
              "    }\n",
              "</style>\n",
              "<table border=\"1\" class=\"dataframe\">\n",
              "  <thead>\n",
              "    <tr style=\"text-align: right;\">\n",
              "      <th></th>\n",
              "      <th>PRICE</th>\n",
              "      <th>HEIGHT</th>\n",
              "      <th>WIDTH</th>\n",
              "      <th>SIGNED</th>\n",
              "      <th>PICTURE</th>\n",
              "      <th>HOUSE</th>\n",
              "    </tr>\n",
              "  </thead>\n",
              "  <tbody>\n",
              "    <tr>\n",
              "      <th>0</th>\n",
              "      <td>3.993780</td>\n",
              "      <td>21.3</td>\n",
              "      <td>25.6</td>\n",
              "      <td>1</td>\n",
              "      <td>1</td>\n",
              "      <td>1</td>\n",
              "    </tr>\n",
              "    <tr>\n",
              "      <th>1</th>\n",
              "      <td>8.800000</td>\n",
              "      <td>31.9</td>\n",
              "      <td>25.6</td>\n",
              "      <td>1</td>\n",
              "      <td>2</td>\n",
              "      <td>2</td>\n",
              "    </tr>\n",
              "    <tr>\n",
              "      <th>2</th>\n",
              "      <td>0.131694</td>\n",
              "      <td>6.9</td>\n",
              "      <td>15.9</td>\n",
              "      <td>0</td>\n",
              "      <td>3</td>\n",
              "      <td>3</td>\n",
              "    </tr>\n",
              "    <tr>\n",
              "      <th>3</th>\n",
              "      <td>2.037500</td>\n",
              "      <td>25.7</td>\n",
              "      <td>32.0</td>\n",
              "      <td>1</td>\n",
              "      <td>4</td>\n",
              "      <td>2</td>\n",
              "    </tr>\n",
              "    <tr>\n",
              "      <th>4</th>\n",
              "      <td>1.487500</td>\n",
              "      <td>25.7</td>\n",
              "      <td>32.0</td>\n",
              "      <td>1</td>\n",
              "      <td>4</td>\n",
              "      <td>2</td>\n",
              "    </tr>\n",
              "    <tr>\n",
              "      <th>5</th>\n",
              "      <td>1.870000</td>\n",
              "      <td>25.6</td>\n",
              "      <td>31.9</td>\n",
              "      <td>1</td>\n",
              "      <td>4</td>\n",
              "      <td>1</td>\n",
              "    </tr>\n",
              "    <tr>\n",
              "      <th>6</th>\n",
              "      <td>5.282500</td>\n",
              "      <td>25.5</td>\n",
              "      <td>35.6</td>\n",
              "      <td>1</td>\n",
              "      <td>5</td>\n",
              "      <td>1</td>\n",
              "    </tr>\n",
              "    <tr>\n",
              "      <th>7</th>\n",
              "      <td>5.065750</td>\n",
              "      <td>26.0</td>\n",
              "      <td>34.3</td>\n",
              "      <td>1</td>\n",
              "      <td>5</td>\n",
              "      <td>2</td>\n",
              "    </tr>\n",
              "    <tr>\n",
              "      <th>8</th>\n",
              "      <td>1.375000</td>\n",
              "      <td>25.6</td>\n",
              "      <td>36.2</td>\n",
              "      <td>1</td>\n",
              "      <td>5</td>\n",
              "      <td>2</td>\n",
              "    </tr>\n",
              "    <tr>\n",
              "      <th>9</th>\n",
              "      <td>2.530000</td>\n",
              "      <td>25.6</td>\n",
              "      <td>36.4</td>\n",
              "      <td>1</td>\n",
              "      <td>6</td>\n",
              "      <td>2</td>\n",
              "    </tr>\n",
              "  </tbody>\n",
              "</table>\n",
              "</div>"
            ],
            "text/plain": [
              "      PRICE  HEIGHT  WIDTH  SIGNED  PICTURE  HOUSE \n",
              "0  3.993780    21.3   25.6       1        1       1\n",
              "1  8.800000    31.9   25.6       1        2       2\n",
              "2  0.131694     6.9   15.9       0        3       3\n",
              "3  2.037500    25.7   32.0       1        4       2\n",
              "4  1.487500    25.7   32.0       1        4       2\n",
              "5  1.870000    25.6   31.9       1        4       1\n",
              "6  5.282500    25.5   35.6       1        5       1\n",
              "7  5.065750    26.0   34.3       1        5       2\n",
              "8  1.375000    25.6   36.2       1        5       2\n",
              "9  2.530000    25.6   36.4       1        6       2"
            ]
          },
          "metadata": {},
          "execution_count": 5
        }
      ]
    },
    {
      "cell_type": "code",
      "metadata": {
        "id": "kTvnpCEd_2ok",
        "colab": {
          "base_uri": "https://localhost:8080/",
          "height": 205
        },
        "outputId": "80a1906c-ff15-4e6e-ce33-f741e576e32e"
      },
      "source": [
        "from sklearn import preprocessing\n",
        "data = preprocessing.normalize(data, axis=0)\n",
        "names = ['PRICE','HEIGHT','WIDTH','SIGNED','PICTURE','HOUSE']\n",
        "norm_data = pd.DataFrame(data, columns=names)\n",
        "norm_data.head()"
      ],
      "execution_count": null,
      "outputs": [
        {
          "output_type": "execute_result",
          "data": {
            "text/html": [
              "<div>\n",
              "<style scoped>\n",
              "    .dataframe tbody tr th:only-of-type {\n",
              "        vertical-align: middle;\n",
              "    }\n",
              "\n",
              "    .dataframe tbody tr th {\n",
              "        vertical-align: top;\n",
              "    }\n",
              "\n",
              "    .dataframe thead th {\n",
              "        text-align: right;\n",
              "    }\n",
              "</style>\n",
              "<table border=\"1\" class=\"dataframe\">\n",
              "  <thead>\n",
              "    <tr style=\"text-align: right;\">\n",
              "      <th></th>\n",
              "      <th>PRICE</th>\n",
              "      <th>HEIGHT</th>\n",
              "      <th>WIDTH</th>\n",
              "      <th>SIGNED</th>\n",
              "      <th>PICTURE</th>\n",
              "      <th>HOUSE</th>\n",
              "    </tr>\n",
              "  </thead>\n",
              "  <tbody>\n",
              "    <tr>\n",
              "      <th>0</th>\n",
              "      <td>0.036338</td>\n",
              "      <td>0.034904</td>\n",
              "      <td>0.036559</td>\n",
              "      <td>0.053225</td>\n",
              "      <td>0.000227</td>\n",
              "      <td>0.028094</td>\n",
              "    </tr>\n",
              "    <tr>\n",
              "      <th>1</th>\n",
              "      <td>0.080068</td>\n",
              "      <td>0.052273</td>\n",
              "      <td>0.036559</td>\n",
              "      <td>0.053225</td>\n",
              "      <td>0.000453</td>\n",
              "      <td>0.056188</td>\n",
              "    </tr>\n",
              "    <tr>\n",
              "      <th>2</th>\n",
              "      <td>0.001198</td>\n",
              "      <td>0.011307</td>\n",
              "      <td>0.022707</td>\n",
              "      <td>0.000000</td>\n",
              "      <td>0.000680</td>\n",
              "      <td>0.084282</td>\n",
              "    </tr>\n",
              "    <tr>\n",
              "      <th>3</th>\n",
              "      <td>0.018538</td>\n",
              "      <td>0.042114</td>\n",
              "      <td>0.045699</td>\n",
              "      <td>0.053225</td>\n",
              "      <td>0.000907</td>\n",
              "      <td>0.056188</td>\n",
              "    </tr>\n",
              "    <tr>\n",
              "      <th>4</th>\n",
              "      <td>0.013534</td>\n",
              "      <td>0.042114</td>\n",
              "      <td>0.045699</td>\n",
              "      <td>0.053225</td>\n",
              "      <td>0.000907</td>\n",
              "      <td>0.056188</td>\n",
              "    </tr>\n",
              "  </tbody>\n",
              "</table>\n",
              "</div>"
            ],
            "text/plain": [
              "      PRICE    HEIGHT     WIDTH    SIGNED   PICTURE     HOUSE\n",
              "0  0.036338  0.034904  0.036559  0.053225  0.000227  0.028094\n",
              "1  0.080068  0.052273  0.036559  0.053225  0.000453  0.056188\n",
              "2  0.001198  0.011307  0.022707  0.000000  0.000680  0.084282\n",
              "3  0.018538  0.042114  0.045699  0.053225  0.000907  0.056188\n",
              "4  0.013534  0.042114  0.045699  0.053225  0.000907  0.056188"
            ]
          },
          "metadata": {},
          "execution_count": 6
        }
      ]
    },
    {
      "cell_type": "code",
      "metadata": {
        "id": "iCbCsTLmTuLL"
      },
      "source": [
        "from sklearn import linear_model\n",
        "Independent_X = norm_data[['HEIGHT','WIDTH','SIGNED','PICTURE','HOUSE']]\n",
        "Dependent_y = norm_data['PRICE']"
      ],
      "execution_count": null,
      "outputs": []
    },
    {
      "cell_type": "code",
      "metadata": {
        "id": "yrwQ5ff15fJq"
      },
      "source": [
        "from sklearn.model_selection import train_test_split\n",
        "X_train, X_test, y_train, y_test = train_test_split(Independent_X, Dependent_y, test_size = 0.2, random_state = 42)"
      ],
      "execution_count": null,
      "outputs": []
    },
    {
      "cell_type": "code",
      "metadata": {
        "id": "92ANFezkT4wT"
      },
      "source": [
        ""
      ],
      "execution_count": null,
      "outputs": []
    },
    {
      "cell_type": "code",
      "metadata": {
        "id": "yIbavAaPtvKP",
        "colab": {
          "base_uri": "https://localhost:8080/"
        },
        "outputId": "f6dc12b7-299e-49dc-9a7a-bd393afbff78"
      },
      "source": [
        "classifier_model = linear_model.LinearRegression()\n",
        "classifier_model.fit(X_train, y_train)"
      ],
      "execution_count": null,
      "outputs": [
        {
          "output_type": "execute_result",
          "data": {
            "text/plain": [
              "LinearRegression(copy_X=True, fit_intercept=True, n_jobs=None, normalize=False)"
            ]
          },
          "metadata": {},
          "execution_count": 9
        }
      ]
    },
    {
      "cell_type": "code",
      "metadata": {
        "colab": {
          "base_uri": "https://localhost:8080/"
        },
        "id": "WFv7QYaVwAav",
        "outputId": "666306b0-520d-4fcb-f903-fca50b926fe2"
      },
      "source": [
        "#Prediction of test set\n",
        "predictions_test= classifier_model.predict(X_test)\n",
        "#Predicted values\n",
        "print(\"Prediction for test set: {}\".format(predictions_test))"
      ],
      "execution_count": null,
      "outputs": [
        {
          "output_type": "stream",
          "name": "stdout",
          "text": [
            "Prediction for test set: [ 0.06424709  0.04726703  0.01422611  0.03012754  0.04149471  0.0312975\n",
            "  0.02981982  0.02744427  0.03006353  0.03763642  0.04004159  0.01376199\n",
            "  0.00673298 -0.00592007  0.01666901  0.02362847  0.02971635  0.0079931\n",
            "  0.02929396  0.03810784  0.03921987  0.05862088  0.03834613  0.02839589\n",
            "  0.02512584  0.02580364  0.03962896  0.01852403  0.03259553  0.0210448\n",
            "  0.02878556  0.03267193  0.0373624   0.03447011  0.04218551  0.01958549\n",
            "  0.02996533  0.03901295  0.06110325  0.04681264  0.08265996  0.02563889\n",
            "  0.01664168  0.02560042  0.03242483  0.03487456  0.01896782  0.01958549\n",
            "  0.0153428   0.02726674  0.02216904  0.05030347  0.03880083  0.01131258\n",
            "  0.01588037  0.0248566   0.01765061  0.02706968  0.03703328  0.02954187\n",
            "  0.02037989 -0.00526301  0.0147013   0.0259765   0.03233128  0.0403038\n",
            "  0.04203762  0.03466688  0.03763642  0.01736644  0.035039    0.02449617\n",
            "  0.01958237  0.03751019  0.03291175  0.03695022  0.02637435  0.01686891\n",
            "  0.01634642  0.02107538  0.02962514  0.01303316  0.00200792  0.03424481\n",
            "  0.01544937  0.03232246]\n"
          ]
        }
      ]
    },
    {
      "cell_type": "code",
      "metadata": {
        "colab": {
          "base_uri": "https://localhost:8080/"
        },
        "id": "Y8GlGf65VAsm",
        "outputId": "c79bee1c-23a9-4241-a3ce-e4d0ab0e0ff9"
      },
      "source": [
        "predictions_test.shape\n"
      ],
      "execution_count": null,
      "outputs": [
        {
          "output_type": "execute_result",
          "data": {
            "text/plain": [
              "(86,)"
            ]
          },
          "metadata": {},
          "execution_count": 12
        }
      ]
    },
    {
      "cell_type": "code",
      "metadata": {
        "colab": {
          "base_uri": "https://localhost:8080/"
        },
        "id": "tV1li_nlwby8",
        "outputId": "e1b9f0b9-2c38-4cba-b104-7fd84afc3979"
      },
      "source": [
        "#Model Evaluation\n",
        "from sklearn import metrics\n",
        "rootMeanSqErr = np.sqrt(metrics.mean_squared_error(y_test, predictions_test))\n",
        "print('Root Mean Square Error:', rootMeanSqErr)"
      ],
      "execution_count": null,
      "outputs": [
        {
          "output_type": "stream",
          "name": "stdout",
          "text": [
            "Root Mean Square Error: 0.03861426843421383\n"
          ]
        }
      ]
    },
    {
      "cell_type": "code",
      "metadata": {
        "id": "6tMwuU5HwnXw"
      },
      "source": [
        ""
      ],
      "execution_count": null,
      "outputs": []
    }
  ]
}