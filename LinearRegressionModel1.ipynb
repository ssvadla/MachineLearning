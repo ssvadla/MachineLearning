{
  "nbformat": 4,
  "nbformat_minor": 0,
  "metadata": {
    "colab": {
      "name": "LinearRegression1_sk.ipynb",
      "provenance": [],
      "collapsed_sections": [],
      "include_colab_link": true
    },
    "kernelspec": {
      "name": "python3",
      "display_name": "Python 3"
    },
    "language_info": {
      "name": "python"
    }
  },
  "cells": [
    {
      "cell_type": "markdown",
      "metadata": {
        "id": "view-in-github",
        "colab_type": "text"
      },
      "source": [
        "<a href=\"https://colab.research.google.com/github/ssvadla/MachineLearning/blob/main/LinearRegressionModel1.ipynb\" target=\"_parent\"><img src=\"https://colab.research.google.com/assets/colab-badge.svg\" alt=\"Open In Colab\"/></a>"
      ]
    },
    {
      "cell_type": "code",
      "metadata": {
        "id": "Lpi7hqzHtExr"
      },
      "source": [
        "import pandas as pd\n",
        "import numpy as np\n",
        "import matplotlib.pyplot as plt"
      ],
      "execution_count": 1,
      "outputs": []
    },
    {
      "cell_type": "code",
      "metadata": {
        "colab": {
          "base_uri": "https://localhost:8080/"
        },
        "id": "nU8F7pAA8jqe",
        "outputId": "b0888008-2b8f-4fab-97fb-027c39f674e1"
      },
      "source": [
        "from google.colab import drive\n",
        "drive.mount('/content/drive')"
      ],
      "execution_count": 2,
      "outputs": [
        {
          "output_type": "stream",
          "name": "stdout",
          "text": [
            "Mounted at /content/drive\n"
          ]
        }
      ]
    },
    {
      "cell_type": "code",
      "metadata": {
        "colab": {
          "base_uri": "https://localhost:8080/",
          "height": 362
        },
        "id": "ugHJgiec8mU7",
        "outputId": "7d0021fd-f678-4c27-e8a2-c9e7ee7c40e0"
      },
      "source": [
        "data = pd.read_csv(\"/content/drive/My Drive/5505_MachineLearning/monet.csv\")\n",
        "data.head(10)"
      ],
      "execution_count": 3,
      "outputs": [
        {
          "output_type": "execute_result",
          "data": {
            "text/html": [
              "<div>\n",
              "<style scoped>\n",
              "    .dataframe tbody tr th:only-of-type {\n",
              "        vertical-align: middle;\n",
              "    }\n",
              "\n",
              "    .dataframe tbody tr th {\n",
              "        vertical-align: top;\n",
              "    }\n",
              "\n",
              "    .dataframe thead th {\n",
              "        text-align: right;\n",
              "    }\n",
              "</style>\n",
              "<table border=\"1\" class=\"dataframe\">\n",
              "  <thead>\n",
              "    <tr style=\"text-align: right;\">\n",
              "      <th></th>\n",
              "      <th>PRICE</th>\n",
              "      <th>HEIGHT</th>\n",
              "      <th>WIDTH</th>\n",
              "      <th>SIGNED</th>\n",
              "      <th>PICTURE</th>\n",
              "      <th>HOUSE</th>\n",
              "    </tr>\n",
              "  </thead>\n",
              "  <tbody>\n",
              "    <tr>\n",
              "      <th>0</th>\n",
              "      <td>3.993780</td>\n",
              "      <td>21.3</td>\n",
              "      <td>25.6</td>\n",
              "      <td>1</td>\n",
              "      <td>1</td>\n",
              "      <td>1</td>\n",
              "    </tr>\n",
              "    <tr>\n",
              "      <th>1</th>\n",
              "      <td>8.800000</td>\n",
              "      <td>31.9</td>\n",
              "      <td>25.6</td>\n",
              "      <td>1</td>\n",
              "      <td>2</td>\n",
              "      <td>2</td>\n",
              "    </tr>\n",
              "    <tr>\n",
              "      <th>2</th>\n",
              "      <td>0.131694</td>\n",
              "      <td>6.9</td>\n",
              "      <td>15.9</td>\n",
              "      <td>0</td>\n",
              "      <td>3</td>\n",
              "      <td>3</td>\n",
              "    </tr>\n",
              "    <tr>\n",
              "      <th>3</th>\n",
              "      <td>2.037500</td>\n",
              "      <td>25.7</td>\n",
              "      <td>32.0</td>\n",
              "      <td>1</td>\n",
              "      <td>4</td>\n",
              "      <td>2</td>\n",
              "    </tr>\n",
              "    <tr>\n",
              "      <th>4</th>\n",
              "      <td>1.487500</td>\n",
              "      <td>25.7</td>\n",
              "      <td>32.0</td>\n",
              "      <td>1</td>\n",
              "      <td>4</td>\n",
              "      <td>2</td>\n",
              "    </tr>\n",
              "    <tr>\n",
              "      <th>5</th>\n",
              "      <td>1.870000</td>\n",
              "      <td>25.6</td>\n",
              "      <td>31.9</td>\n",
              "      <td>1</td>\n",
              "      <td>4</td>\n",
              "      <td>1</td>\n",
              "    </tr>\n",
              "    <tr>\n",
              "      <th>6</th>\n",
              "      <td>5.282500</td>\n",
              "      <td>25.5</td>\n",
              "      <td>35.6</td>\n",
              "      <td>1</td>\n",
              "      <td>5</td>\n",
              "      <td>1</td>\n",
              "    </tr>\n",
              "    <tr>\n",
              "      <th>7</th>\n",
              "      <td>5.065750</td>\n",
              "      <td>26.0</td>\n",
              "      <td>34.3</td>\n",
              "      <td>1</td>\n",
              "      <td>5</td>\n",
              "      <td>2</td>\n",
              "    </tr>\n",
              "    <tr>\n",
              "      <th>8</th>\n",
              "      <td>1.375000</td>\n",
              "      <td>25.6</td>\n",
              "      <td>36.2</td>\n",
              "      <td>1</td>\n",
              "      <td>5</td>\n",
              "      <td>2</td>\n",
              "    </tr>\n",
              "    <tr>\n",
              "      <th>9</th>\n",
              "      <td>2.530000</td>\n",
              "      <td>25.6</td>\n",
              "      <td>36.4</td>\n",
              "      <td>1</td>\n",
              "      <td>6</td>\n",
              "      <td>2</td>\n",
              "    </tr>\n",
              "  </tbody>\n",
              "</table>\n",
              "</div>"
            ],
            "text/plain": [
              "      PRICE  HEIGHT  WIDTH  SIGNED  PICTURE  HOUSE \n",
              "0  3.993780    21.3   25.6       1        1       1\n",
              "1  8.800000    31.9   25.6       1        2       2\n",
              "2  0.131694     6.9   15.9       0        3       3\n",
              "3  2.037500    25.7   32.0       1        4       2\n",
              "4  1.487500    25.7   32.0       1        4       2\n",
              "5  1.870000    25.6   31.9       1        4       1\n",
              "6  5.282500    25.5   35.6       1        5       1\n",
              "7  5.065750    26.0   34.3       1        5       2\n",
              "8  1.375000    25.6   36.2       1        5       2\n",
              "9  2.530000    25.6   36.4       1        6       2"
            ]
          },
          "metadata": {},
          "execution_count": 3
        }
      ]
    },
    {
      "cell_type": "code",
      "metadata": {
        "id": "kTvnpCEd_2ok"
      },
      "source": [
        "data['Size'] = data['HEIGHT']*data['WIDTH']"
      ],
      "execution_count": 4,
      "outputs": []
    },
    {
      "cell_type": "code",
      "metadata": {
        "id": "yIbavAaPtvKP"
      },
      "source": [
        "Independent_X = data['Size']\n",
        "Dependent_y = data['PRICE']"
      ],
      "execution_count": 5,
      "outputs": []
    },
    {
      "cell_type": "code",
      "metadata": {
        "id": "opQn7Cght5HF"
      },
      "source": [
        "from sklearn.model_selection import train_test_split\n",
        "X_train, X_test, y_train, y_test = train_test_split(Independent_X, Dependent_y, test_size = 0.2, random_state = 42)"
      ],
      "execution_count": 6,
      "outputs": []
    },
    {
      "cell_type": "code",
      "metadata": {
        "colab": {
          "base_uri": "https://localhost:8080/"
        },
        "id": "s00Fk9C1t93N",
        "outputId": "64f96024-ecb5-4ba4-90b0-1361849b359c"
      },
      "source": [
        "from sklearn.linear_model import LinearRegression\n",
        "classifier_model = LinearRegression()  \n",
        "classifier_model.fit(X_train.values.reshape(-1, 1), y_train)"
      ],
      "execution_count": 7,
      "outputs": [
        {
          "output_type": "execute_result",
          "data": {
            "text/plain": [
              "LinearRegression(copy_X=True, fit_intercept=True, n_jobs=None, normalize=False)"
            ]
          },
          "metadata": {},
          "execution_count": 7
        }
      ]
    },
    {
      "cell_type": "code",
      "metadata": {
        "colab": {
          "base_uri": "https://localhost:8080/"
        },
        "id": "92kavhrMuA5q",
        "outputId": "fcbe9e28-ae86-4a4c-cdec-45f86c71e4ae"
      },
      "source": [
        "print(\"Intercept: \", classifier_model.intercept_)\n",
        "print(\"Coefficient: \", classifier_model.coef_)"
      ],
      "execution_count": 8,
      "outputs": [
        {
          "output_type": "stream",
          "name": "stdout",
          "text": [
            "Intercept:  1.1538408583422475\n",
            "Coefficient:  [0.00207643]\n"
          ]
        }
      ]
    },
    {
      "cell_type": "code",
      "metadata": {
        "colab": {
          "base_uri": "https://localhost:8080/"
        },
        "id": "WFv7QYaVwAav",
        "outputId": "02b769de-f032-4880-b7ef-ad787a015506"
      },
      "source": [
        "#Prediction of test set\n",
        "predictions_test= classifier_model.predict(X_test.values.reshape(-1,1))\n",
        "#Predicted values\n",
        "print(\"Prediction for test set: {}\".format(predictions_test))"
      ],
      "execution_count": 9,
      "outputs": [
        {
          "output_type": "stream",
          "name": "stdout",
          "text": [
            "Prediction for test set: [7.91556292 4.89690474 3.07811424 3.10164024 3.11457643 2.68093385\n",
            " 2.8429165  2.67129919 3.07811424 3.35174677 3.08459271 3.24821575\n",
            " 2.4941378  1.49335866 2.28607906 2.46504695 2.86150059 2.56959543\n",
            " 3.08874558 3.08342991 3.55166589 4.90730768 2.87350238 3.332166\n",
            " 2.58205403 2.49231054 3.62157944 1.96180229 2.88143436 1.98815224\n",
            " 3.07811424 2.97501926 3.32305045 3.32305045 3.24821575 2.56471581\n",
            " 2.71706381 3.044123   7.44961102 3.28351514 7.59240742 2.86278798\n",
            " 2.42318603 2.7153196  3.31113172 3.19456068 1.96940204 2.56471581\n",
            " 1.70824887 2.47860607 2.97354499 3.77845406 3.29173782 2.28607906\n",
            " 2.30563907 2.45873459 2.15194139 3.1243772  3.31113172 2.62343737\n",
            " 2.20223264 1.22547785 2.13557909 2.71706381 2.86017167 4.01724403\n",
            " 3.07059754 3.01108693 3.35174677 2.56025147 3.1237958  2.22652692\n",
            " 2.57495263 3.07589245 2.43203164 3.25884709 2.90842801 2.52594877\n",
            " 3.31709108 2.59121111 2.67129919 2.84954033 2.84549128 3.08459271\n",
            " 2.47833613 3.24821575]\n"
          ]
        }
      ]
    },
    {
      "cell_type": "code",
      "metadata": {
        "colab": {
          "base_uri": "https://localhost:8080/",
          "height": 295
        },
        "id": "Vwal7XVK7uJs",
        "outputId": "48a85d23-5808-4da4-c45d-96a074a1262d"
      },
      "source": [
        "\n",
        "plt.title('Linear Regression')\n",
        "plt.xlabel('Size')\n",
        "plt.ylabel('Price')\n",
        "plt.scatter(X_train,y_train)\n",
        "plt.plot(X_test, predictions_test, 'Green')\n",
        "plt.show()"
      ],
      "execution_count": 10,
      "outputs": [
        {
          "output_type": "display_data",
          "data": {
            "image/png": "[encoded data removed]",
            "text/plain": [
              "<Figure size 432x288 with 1 Axes>"
            ]
          },
          "metadata": {
            "needs_background": "light"
          }
        }
      ]
    },
    {
      "cell_type": "code",
      "metadata": {
        "colab": {
          "base_uri": "https://localhost:8080/"
        },
        "id": "tV1li_nlwby8",
        "outputId": "dc371fcf-c477-4a18-bd9e-596b0707cbe1"
      },
      "source": [
        "#Model Evaluation\n",
        "from sklearn import metrics\n",
        "rootMeanSqErr = np.sqrt(metrics.mean_squared_error(y_test, predictions_test))\n",
        "print('Root Mean Square Error:', rootMeanSqErr)"
      ],
      "execution_count": 11,
      "outputs": [
        {
          "output_type": "stream",
          "name": "stdout",
          "text": [
            "Root Mean Square Error: 4.318439993935477\n"
          ]
        }
      ]
    },
    {
      "cell_type": "code",
      "metadata": {
        "id": "6tMwuU5HwnXw"
      },
      "source": [
        ""
      ],
      "execution_count": 11,
      "outputs": []
    }
  ]
}